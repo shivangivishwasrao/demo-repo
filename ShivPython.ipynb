{
 "cells": [
  {
   "cell_type": "code",
   "execution_count": 1,
   "id": "4e750f5d",
   "metadata": {},
   "outputs": [
    {
     "data": {
      "text/plain": [
       "2"
      ]
     },
     "execution_count": 1,
     "metadata": {},
     "output_type": "execute_result"
    }
   ],
   "source": [
    "1+1"
   ]
  },
  {
   "cell_type": "code",
   "execution_count": 2,
   "id": "1ea4f665",
   "metadata": {},
   "outputs": [
    {
     "name": "stdout",
     "output_type": "stream",
     "text": [
      "Shiv\n"
     ]
    }
   ],
   "source": [
    "print('Shiv')"
   ]
  },
  {
   "cell_type": "markdown",
   "id": "cda4fd25",
   "metadata": {},
   "source": [
    "Using print statement you can show output on console"
   ]
  },
  {
   "cell_type": "code",
   "execution_count": 1,
   "id": "17a28ee4",
   "metadata": {},
   "outputs": [
    {
     "data": {
      "text/plain": [
       "{'M', 'i', 'p', 's'}"
      ]
     },
     "execution_count": 1,
     "metadata": {},
     "output_type": "execute_result"
    }
   ],
   "source": [
    "set(\"Mississipi\")"
   ]
  },
  {
   "cell_type": "code",
   "execution_count": 3,
   "id": "e75d3f6b",
   "metadata": {},
   "outputs": [
    {
     "name": "stdout",
     "output_type": "stream",
     "text": [
      "Writing test.txt\n"
     ]
    }
   ],
   "source": [
    "%%writefile test.txt\n",
    "hi"
   ]
  },
  {
   "cell_type": "code",
   "execution_count": 4,
   "id": "ef22d073",
   "metadata": {},
   "outputs": [
    {
     "data": {
      "text/plain": [
       "'C:\\\\Users\\\\Karan Milind Vichare\\\\Desktop\\\\Shiv Python'"
      ]
     },
     "execution_count": 4,
     "metadata": {},
     "output_type": "execute_result"
    }
   ],
   "source": [
    "pwd"
   ]
  },
  {
   "cell_type": "code",
   "execution_count": 5,
   "id": "8ae813b4",
   "metadata": {},
   "outputs": [
    {
     "name": "stdout",
     "output_type": "stream",
     "text": [
      "Overwriting test.txt\n"
     ]
    }
   ],
   "source": [
    "%%writefile test.txt\n",
    "hi\n",
    "hello\n",
    "bye"
   ]
  },
  {
   "cell_type": "code",
   "execution_count": 7,
   "id": "868ebd04",
   "metadata": {},
   "outputs": [
    {
     "ename": "NameError",
     "evalue": "name 'test' is not defined",
     "output_type": "error",
     "traceback": [
      "\u001b[1;31m---------------------------------------------------------------------------\u001b[0m",
      "\u001b[1;31mNameError\u001b[0m                                 Traceback (most recent call last)",
      "\u001b[1;32mC:\\Users\\KARANM~1\\AppData\\Local\\Temp/ipykernel_11884/1568513635.py\u001b[0m in \u001b[0;36m<module>\u001b[1;34m\u001b[0m\n\u001b[1;32m----> 1\u001b[1;33m \u001b[0mtest\u001b[0m\u001b[1;33m.\u001b[0m\u001b[0mread\u001b[0m\u001b[1;33m(\u001b[0m\u001b[1;33m)\u001b[0m\u001b[1;33m\u001b[0m\u001b[1;33m\u001b[0m\u001b[0m\n\u001b[0m",
      "\u001b[1;31mNameError\u001b[0m: name 'test' is not defined"
     ]
    }
   ],
   "source": [
    "test.read()"
   ]
  },
  {
   "cell_type": "code",
   "execution_count": 9,
   "id": "06e865e3",
   "metadata": {},
   "outputs": [],
   "source": [
    "check = open(\"test.txt\")"
   ]
  },
  {
   "cell_type": "code",
   "execution_count": 10,
   "id": "92d774e9",
   "metadata": {},
   "outputs": [
    {
     "data": {
      "text/plain": [
       "'hi\\nhello\\nbye\\n'"
      ]
     },
     "execution_count": 10,
     "metadata": {},
     "output_type": "execute_result"
    }
   ],
   "source": [
    "check.read()"
   ]
  },
  {
   "cell_type": "code",
   "execution_count": 15,
   "id": "171976b2",
   "metadata": {},
   "outputs": [
    {
     "data": {
      "text/plain": [
       "'\\nhello\\nbye\\n'"
      ]
     },
     "execution_count": 15,
     "metadata": {},
     "output_type": "execute_result"
    }
   ],
   "source": [
    "check.read()"
   ]
  },
  {
   "cell_type": "code",
   "execution_count": null,
   "id": "4eaf3d85",
   "metadata": {},
   "outputs": [],
   "source": []
  },
  {
   "cell_type": "code",
   "execution_count": 14,
   "id": "a7129122",
   "metadata": {},
   "outputs": [
    {
     "data": {
      "text/plain": [
       "2"
      ]
     },
     "execution_count": 14,
     "metadata": {},
     "output_type": "execute_result"
    }
   ],
   "source": [
    "check.seek(2)"
   ]
  },
  {
   "cell_type": "code",
   "execution_count": 16,
   "id": "b41b7f20",
   "metadata": {},
   "outputs": [
    {
     "name": "stdout",
     "output_type": "stream",
     "text": [
      "Writing sample.txt\n"
     ]
    }
   ],
   "source": [
    "%%writefile sample.txt\n",
    "hello world"
   ]
  },
  {
   "cell_type": "code",
   "execution_count": 17,
   "id": "0d857424",
   "metadata": {},
   "outputs": [],
   "source": [
    "sample = open(\"sample.txt\")"
   ]
  },
  {
   "cell_type": "markdown",
   "id": "248a86b1",
   "metadata": {},
   "source": [
    "sample.close()"
   ]
  },
  {
   "cell_type": "code",
   "execution_count": 18,
   "id": "88b78b2d",
   "metadata": {},
   "outputs": [],
   "source": [
    "sample.close()"
   ]
  },
  {
   "cell_type": "code",
   "execution_count": 27,
   "id": "619439b4",
   "metadata": {},
   "outputs": [],
   "source": [
    "with open('sample.txt',mode = 'w') as sample:\n",
    "    sample.write(\"Hello uni\")\n",
    "    sample.close()"
   ]
  },
  {
   "cell_type": "code",
   "execution_count": 34,
   "id": "bdb24155",
   "metadata": {},
   "outputs": [
    {
     "name": "stdout",
     "output_type": "stream",
     "text": [
      "Hello uni\n"
     ]
    }
   ],
   "source": [
    "with open('sample.txt',mode = 'r') as r:\n",
    "     print(r.read())"
   ]
  },
  {
   "cell_type": "code",
   "execution_count": 33,
   "id": "ec1d9289",
   "metadata": {},
   "outputs": [
    {
     "ename": "ValueError",
     "evalue": "I/O operation on closed file.",
     "output_type": "error",
     "traceback": [
      "\u001b[1;31m---------------------------------------------------------------------------\u001b[0m",
      "\u001b[1;31mValueError\u001b[0m                                Traceback (most recent call last)",
      "\u001b[1;32mC:\\Users\\KARANM~1\\AppData\\Local\\Temp/ipykernel_11884/546448700.py\u001b[0m in \u001b[0;36m<module>\u001b[1;34m\u001b[0m\n\u001b[1;32m----> 1\u001b[1;33m \u001b[0msample\u001b[0m\u001b[1;33m.\u001b[0m\u001b[0mseek\u001b[0m\u001b[1;33m(\u001b[0m\u001b[1;36m0\u001b[0m\u001b[1;33m)\u001b[0m\u001b[1;33m\u001b[0m\u001b[1;33m\u001b[0m\u001b[0m\n\u001b[0m",
      "\u001b[1;31mValueError\u001b[0m: I/O operation on closed file."
     ]
    }
   ],
   "source": []
  },
  {
   "cell_type": "code",
   "execution_count": 8,
   "id": "70075282",
   "metadata": {},
   "outputs": [
    {
     "name": "stdout",
     "output_type": "stream",
     "text": [
      "1\n",
      "2\n",
      "3\n",
      "4\n"
     ]
    }
   ],
   "source": [
    "mylist=[(1,2),(3,4)]\n",
    "for (a,b) in mylist:\n",
    "    print(a)\n",
    "    print(b)"
   ]
  },
  {
   "cell_type": "code",
   "execution_count": 12,
   "id": "f6bdddaf",
   "metadata": {},
   "outputs": [
    {
     "data": {
      "text/plain": [
       "[1, 9, 3, 4]"
      ]
     },
     "execution_count": 12,
     "metadata": {},
     "output_type": "execute_result"
    }
   ],
   "source": [
    "k = [1,2,3,4]\n",
    "k[1] = 9\n",
    "k"
   ]
  },
  {
   "cell_type": "code",
   "execution_count": 26,
   "id": "bd950521",
   "metadata": {},
   "outputs": [],
   "source": [
    "def myfunc(*args):\n",
    "    y = []\n",
    "    for x in args:\n",
    "        if x % 2 == 0:\n",
    "            y.append(x)\n",
    "    return y"
   ]
  },
  {
   "cell_type": "code",
   "execution_count": 27,
   "id": "19453e23",
   "metadata": {},
   "outputs": [
    {
     "name": "stdout",
     "output_type": "stream",
     "text": [
      "[2, 4, 6, 8]\n"
     ]
    }
   ],
   "source": [
    "r = myfunc(1,2,3,4,5,6,7,8)\n",
    "print (r)"
   ]
  },
  {
   "cell_type": "code",
   "execution_count": 55,
   "id": "8b51923e",
   "metadata": {},
   "outputs": [],
   "source": [
    "def myfunc(s):\n",
    "    z=''\n",
    "    a=0\n",
    "    for x in s:\n",
    "        \n",
    "        if a % 2 == 0:\n",
    "            z=z + (x.upper())\n",
    "            \n",
    "        else:\n",
    "            z=z + (x.lower())\n",
    "           \n",
    "        a = a+1\n",
    "    \n",
    "    return z"
   ]
  },
  {
   "cell_type": "code",
   "execution_count": 56,
   "id": "eb33216c",
   "metadata": {},
   "outputs": [
    {
     "data": {
      "text/plain": [
       "'KaRaN'"
      ]
     },
     "execution_count": 56,
     "metadata": {},
     "output_type": "execute_result"
    }
   ],
   "source": [
    "o = myfunc('KaRan')\n",
    "o"
   ]
  },
  {
   "cell_type": "code",
   "execution_count": 1,
   "id": "30846270",
   "metadata": {},
   "outputs": [
    {
     "ename": "IndentationError",
     "evalue": "expected an indented block (Temp/ipykernel_7392/1812554648.py, line 9)",
     "output_type": "error",
     "traceback": [
      "\u001b[1;36m  File \u001b[1;32m\"C:\\Users\\KARANM~1\\AppData\\Local\\Temp/ipykernel_7392/1812554648.py\"\u001b[1;36m, line \u001b[1;32m9\u001b[0m\n\u001b[1;33m    str = ' '.join(lst[(n-x)])\u001b[0m\n\u001b[1;37m    ^\u001b[0m\n\u001b[1;31mIndentationError\u001b[0m\u001b[1;31m:\u001b[0m expected an indented block\n"
     ]
    }
   ],
   "source": [
    "def master_yoda(text):\n",
    "    str = ''\n",
    "    lst=[]\n",
    "    lst=text.split()\n",
    "    n = len(lst)\n",
    "    x = 0\n",
    "    while x < n:\n",
    "        if x==0:\n",
    "        str = ' '.join(lst[(n-x)])\n",
    "        else:\n",
    "        str = str + ' '.join(lst[(n-x)])\n",
    "        x=x+1\n",
    "    return str\n"
   ]
  },
  {
   "cell_type": "code",
   "execution_count": 10,
   "id": "0a900b13",
   "metadata": {},
   "outputs": [],
   "source": [
    "def almost_there(n):\n",
    "    return (((100 - n) <= 10) or ((200 - n) <= 10))"
   ]
  },
  {
   "cell_type": "code",
   "execution_count": null,
   "id": "3b228e9f",
   "metadata": {},
   "outputs": [],
   "source": [
    "def has_33(nums):\n",
    "    if f==1:\n",
    "        return True\n",
    "    else:\n",
    "        return False"
   ]
  },
  {
   "cell_type": "code",
   "execution_count": null,
   "id": "1c53cad6",
   "metadata": {},
   "outputs": [],
   "source": [
    "has_33([1, 3, 3])"
   ]
  },
  {
   "cell_type": "code",
   "execution_count": 1,
   "id": "d883d657",
   "metadata": {},
   "outputs": [],
   "source": [
    "def animal_crackers(text):\n",
    "    wordlist = text.split()\n",
    "    return wordlist[0][0] == wordlist[1][0]"
   ]
  },
  {
   "cell_type": "code",
   "execution_count": 2,
   "id": "ed367c76",
   "metadata": {},
   "outputs": [
    {
     "data": {
      "text/plain": [
       "True"
      ]
     },
     "execution_count": 2,
     "metadata": {},
     "output_type": "execute_result"
    }
   ],
   "source": [
    "# Check\n",
    "animal_crackers('Levelheaded Llama')"
   ]
  },
  {
   "cell_type": "code",
   "execution_count": 41,
   "id": "3629acc2",
   "metadata": {},
   "outputs": [],
   "source": [
    "def master_yoda(text):\n",
    "    return ' '.join(text.split()[::-1])"
   ]
  },
  {
   "cell_type": "code",
   "execution_count": 42,
   "id": "e10b1dc5",
   "metadata": {},
   "outputs": [
    {
     "data": {
      "text/plain": [
       "'home am I'"
      ]
     },
     "execution_count": 42,
     "metadata": {},
     "output_type": "execute_result"
    }
   ],
   "source": [
    "# Check\n",
    "master_yoda('I am home')"
   ]
  },
  {
   "cell_type": "code",
   "execution_count": null,
   "id": "f24a065f",
   "metadata": {},
   "outputs": [],
   "source": []
  }
 ],
 "metadata": {
  "celltoolbar": "Raw Cell Format",
  "kernelspec": {
   "display_name": "Python 3 (ipykernel)",
   "language": "python",
   "name": "python3"
  },
  "language_info": {
   "codemirror_mode": {
    "name": "ipython",
    "version": 3
   },
   "file_extension": ".py",
   "mimetype": "text/x-python",
   "name": "python",
   "nbconvert_exporter": "python",
   "pygments_lexer": "ipython3",
   "version": "3.9.7"
  }
 },
 "nbformat": 4,
 "nbformat_minor": 5
}
